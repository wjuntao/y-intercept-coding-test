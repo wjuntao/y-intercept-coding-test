{
 "cells": [
  {
   "cell_type": "code",
   "execution_count": 1,
   "metadata": {},
   "outputs": [],
   "source": [
    "import pandas as pd\n",
    "import xgboost as xgb\n",
    "\n",
    "import matplotlib.pyplot as plt\n",
    "\n",
    "from ray import tune\n"
   ]
  },
  {
   "cell_type": "code",
   "execution_count": 2,
   "metadata": {},
   "outputs": [],
   "source": [
    "df = pd.read_csv('./data.csv')"
   ]
  },
  {
   "cell_type": "markdown",
   "metadata": {},
   "source": [
    "# Data Preparation"
   ]
  },
  {
   "cell_type": "code",
   "execution_count": 3,
   "metadata": {},
   "outputs": [],
   "source": [
    "# For simplicity, we only trade a single stock.\n",
    "ticker = '1332 JT'\n",
    "\n",
    "trade_df = df[df.ticker == ticker].copy()\n",
    "trade_df.set_index('date')\n",
    "trade_df.index = pd.to_datetime(trade_df.date, infer_datetime_format=True)\n",
    "trade_df.fillna(method='ffill')\n",
    "trade_df.drop_duplicates()\n",
    "\n",
    "trade_df['price_change_pct'] = (trade_df['last'] - trade_df['last'].shift(1)) / trade_df['last'].shift(1)\n",
    "trade_df['prev_volume'] = trade_df['volume'].shift(1)\n",
    "trade_df['price_change_pct'].fillna(0, inplace=True)\n",
    "trade_df['prev_volume'].fillna(method='bfill', inplace=True)"
   ]
  },
  {
   "cell_type": "markdown",
   "metadata": {},
   "source": [
    "# Implementation of the Strategy\n",
    "\n",
    "## Basic Idea\n",
    "* Apply the XGBoost to predict the today's price change given the historical data until today.\n",
    "* Select some features based on the data, e.g., the day of the week.\n",
    "* Perform hyperparameter tunning to select out the best configuration. The selection is based on the performance of the XGBoost on validation data.\n",
    "* Use the XGBoost fitted on the historical data with the best hyperparameter to predict the price change today.\n",
    "* If the predicted price change is positive, then we will increase our position; If the predicted price change is negative, then we will decrease our position.\n"
   ]
  },
  {
   "cell_type": "code",
   "execution_count": 4,
   "metadata": {},
   "outputs": [],
   "source": [
    "def add_features(df):\n",
    "    df = df.copy()\n",
    "    df['dayofweek'] = df.index.dayofweek\n",
    "    df['dayofyear'] = df.index.dayofyear\n",
    "    df['month'] = df.index.month\n",
    "    df['year'] = df.index.year\n",
    "    return df\n",
    "\n",
    "trade_df = add_features(trade_df)"
   ]
  },
  {
   "cell_type": "code",
   "execution_count": 5,
   "metadata": {},
   "outputs": [],
   "source": [
    "FEATURES = ['dayofweek', 'dayofyear', 'month', 'year', 'prev_volume']\n",
    "TARGET = 'price_change_pct'\n",
    "\n",
    "def predict_today_based_on_history(history, tomorrow_features, tuning=False):\n",
    "    valid_ratio = 0.1\n",
    "    num_histories = len(history)\n",
    "\n",
    "    part_idx = int(num_histories * (1 - valid_ratio))\n",
    "    train = history.iloc[: part_idx, :]\n",
    "    valid = history.iloc[part_idx:, :]\n",
    "\n",
    "    X_all = history[FEATURES]\n",
    "    y_all = history[TARGET]\n",
    "\n",
    "    X_train = train[FEATURES]\n",
    "    y_train = train[TARGET]\n",
    "\n",
    "    X_valid = valid[FEATURES]\n",
    "    y_valid = valid[TARGET]\n",
    "\n",
    "    if tuning:\n",
    "        hyperparam_space = {\n",
    "            'booster': tune.grid_search(['gbtree', 'gblinear']),\n",
    "            'n_estimators': tune.grid_search([500, 1000, 1500]),\n",
    "            'max_depth': tune.grid_search([3, 6, 9]),\n",
    "            'learning_rate': tune.grid_search([0.01, 0.05, 0.1])\n",
    "        }\n",
    "\n",
    "        def objective(config):\n",
    "            booster, n_estimators, max_depth, learning_rate = \\\n",
    "                config['booster'], config['n_estimators'], config['max_depth'], config['learning_rate']\n",
    "\n",
    "            reg = xgb.XGBRegressor(base_score=0.5, booster=booster,\n",
    "                                   n_estimators=n_estimators,\n",
    "                                   early_stopping_rounds=50,\n",
    "                                   objective='reg:squarederror',\n",
    "                                   max_depth=max_depth,\n",
    "                                   learning_rate=learning_rate)\n",
    "\n",
    "            reg.fit(X_train, y_train,\n",
    "                    eval_set=[(X_valid, y_valid)],\n",
    "                    verbose=100)\n",
    "\n",
    "            score = reg.evals_result()['validation_0']['rmse'][-1]\n",
    "            return {'score': score}\n",
    "\n",
    "        tunner = tune.Tuner(objective, param_space=hyperparam_space)\n",
    "\n",
    "        results = tunner.fit()\n",
    "        best_config = results.get_best_result(\n",
    "            metric='score', mode='min').config\n",
    "\n",
    "    else:\n",
    "        best_config = {\n",
    "            'booster': 'gbtree',\n",
    "            'n_estimators': 1000,\n",
    "            'max_depth': 3,\n",
    "            'learning_rate': 0.1\n",
    "        }\n",
    "\n",
    "    reg = xgb.XGBRegressor(base_score=0.5, booster=best_config['booster'],\n",
    "                           n_estimators=best_config['n_estimators'],\n",
    "                           early_stopping_rounds=50,\n",
    "                           objective='reg:squarederror',\n",
    "                           max_depth=best_config['max_depth'],\n",
    "                           learning_rate=best_config['learning_rate'])\n",
    "\n",
    "    reg.fit(X_all, y_all, eval_set=[(X_all, y_all)], verbose=0)\n",
    "    pred = reg.predict(tomorrow_features)\n",
    "    return pred\n"
   ]
  },
  {
   "cell_type": "markdown",
   "metadata": {},
   "source": [
    "# Backtesting the strategy"
   ]
  },
  {
   "cell_type": "code",
   "execution_count": 6,
   "metadata": {},
   "outputs": [],
   "source": [
    "first_trading_date = '2015-01-01'\n",
    "\n",
    "dates_to_trade = trade_df[trade_df.index > first_trading_date].index\n",
    "\n",
    "trade_df['position'] = 0\n",
    "\n",
    "trade_df['money'] = 1000\n",
    "\n",
    "for today in dates_to_trade[:-1]:\n",
    "    history = trade_df[trade_df.index < today]\n",
    "    today_df = trade_df[trade_df.index == today]\n",
    "    today_features = today_df[FEATURES]\n",
    "\n",
    "    pred = predict_today_based_on_history(history, today_features)\n",
    "\n",
    "    yesterday_position = history['position'][-1]\n",
    "    yesterday_money = history['money'][-1]\n",
    "    if pred > 0:\n",
    "        trade_df.loc[today, 'position'] = min(yesterday_position + 1, 1)\n",
    "\n",
    "    if pred < 0:\n",
    "        trade_df.loc[today, 'position'] = max(yesterday_position - 1, -1)\n",
    "\n",
    "    trade_df.loc[today, 'money'] = yesterday_money \\\n",
    "        + yesterday_money * yesterday_position * trade_df.loc[today, 'price_change_pct']\n",
    "\n"
   ]
  },
  {
   "cell_type": "code",
   "execution_count": 7,
   "metadata": {},
   "outputs": [
    {
     "data": {
      "text/plain": [
       "<matplotlib.lines.Line2D at 0x7f5c080f3520>"
      ]
     },
     "execution_count": 7,
     "metadata": {},
     "output_type": "execute_result"
    },
    {
     "data": {
      "image/png": "[encoded data removed]",
      "text/plain": [
       "<Figure size 432x288 with 3 Axes>"
      ]
     },
     "metadata": {
      "needs_background": "light"
     },
     "output_type": "display_data"
    }
   ],
   "source": [
    "fig, axes = plt.subplots(3, 1, sharex=True)\n",
    "\n",
    "fig.subplots_adjust(hspace=0.5)\n",
    "trade_df['last'].plot(ax=axes[0])\n",
    "trade_df['position'].plot(ax=axes[1])\n",
    "trade_df['money'].plot(ax=axes[2])\n",
    "\n",
    "axes[0].set_title(f'{ticker} last price')\n",
    "axes[1].set_title(f'position')\n",
    "axes[2].set_title(f'money')\n",
    "\n",
    "axes[0].axvline(first_trading_date, ls='--', c='r')\n",
    "axes[1].axvline(first_trading_date, ls='--', c='r')\n",
    "axes[2].axvline(first_trading_date, ls='--', c='r')\n"
   ]
  },
  {
   "cell_type": "code",
   "execution_count": null,
   "metadata": {},
   "outputs": [],
   "source": []
  }
 ],
 "metadata": {
  "kernelspec": {
   "display_name": "gnn",
   "language": "python",
   "name": "python3"
  },
  "language_info": {
   "codemirror_mode": {
    "name": "ipython",
    "version": 3
   },
   "file_extension": ".py",
   "mimetype": "text/x-python",
   "name": "python",
   "nbconvert_exporter": "python",
   "pygments_lexer": "ipython3",
   "version": "3.9.1"
  }
 },
 "nbformat": 4,
 "nbformat_minor": 2
}
